{
 "cells": [
  {
   "cell_type": "markdown",
   "id": "1341e534",
   "metadata": {},
   "source": [
    "# Minimax algorithm"
   ]
  },
  {
   "cell_type": "code",
   "execution_count": null,
   "id": "988fcab7",
   "metadata": {},
   "outputs": [],
   "source": [
    "import math\n",
    " \n",
    "def minimax (curDepth, nodeIndex,maxTurn, scores, targetDepth):\n",
    " \n",
    "    if (curDepth == targetDepth): \n",
    "        return scores[nodeIndex]\n",
    "     \n",
    "    if (maxTurn):\n",
    "        return max(minimax(curDepth + 1, nodeIndex * 2, False, scores, targetDepth), \n",
    "                   minimax(curDepth + 1, nodeIndex * 2 + 1,False, scores, targetDepth))\n",
    "     \n",
    "    else:\n",
    "        return min(minimax(curDepth + 1, nodeIndex * 2, True, scores, targetDepth), \n",
    "                   minimax(curDepth + 1, nodeIndex * 2 + 1, True, scores, targetDepth))     \n",
    "scores = [3, 5, 2, 9, 10, 5, 7, 19]\n",
    "treeDepth = math.log(len(scores), 2)\n",
    " \n",
    "print(\"The optimal value is : \", end = \"\")\n",
    "print(minimax(0, 0, True, scores, treeDepth))\n",
    "print(treeDepth)"
   ]
  },
  {
   "cell_type": "code",
   "execution_count": null,
   "id": "427d9d5d",
   "metadata": {},
   "outputs": [],
   "source": []
  },
  {
   "cell_type": "code",
   "execution_count": null,
   "id": "be36b15b",
   "metadata": {},
   "outputs": [],
   "source": []
  }
 ],
 "metadata": {
  "kernelspec": {
   "display_name": "Python 3 (ipykernel)",
   "language": "python",
   "name": "python3"
  },
  "language_info": {
   "codemirror_mode": {
    "name": "ipython",
    "version": 3
   },
   "file_extension": ".py",
   "mimetype": "text/x-python",
   "name": "python",
   "nbconvert_exporter": "python",
   "pygments_lexer": "ipython3",
   "version": "3.11.5"
  }
 },
 "nbformat": 4,
 "nbformat_minor": 5
}
